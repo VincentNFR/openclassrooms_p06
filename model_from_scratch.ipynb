{
  "nbformat": 4,
  "nbformat_minor": 0,
  "metadata": {
    "colab": {
      "name": "Copie de Copie de Copie de Untitled2.ipynb",
      "provenance": [],
      "collapsed_sections": [],
      "mount_file_id": "1F76mPPOaCIZ-vyqgWfVPhu5X7oc_HgZK",
      "authorship_tag": "ABX9TyMfz/HimSNVClt2xr33rhgM",
      "include_colab_link": true
    },
    "kernelspec": {
      "name": "python3",
      "display_name": "Python 3"
    },
    "language_info": {
      "name": "python"
    },
    "accelerator": "GPU"
  },
  "cells": [
    {
      "cell_type": "markdown",
      "metadata": {
        "id": "view-in-github",
        "colab_type": "text"
      },
      "source": [
        "<a href=\"https://colab.research.google.com/github/VincentNFR/openclassrooms_p06/blob/main/model_from_scratch.ipynb\" target=\"_parent\"><img src=\"https://colab.research.google.com/assets/colab-badge.svg\" alt=\"Open In Colab\"/></a>"
      ]
    },
    {
      "cell_type": "code",
      "execution_count": 34,
      "metadata": {
        "id": "tSRsFkPQXCAh"
      },
      "outputs": [],
      "source": [
        "#import tensorflow as tf\n",
        "import numpy as np \n",
        "import pandas as pd\n",
        "import matplotlib.pyplot as plt\n",
        "import seaborn as sns\n",
        "\n",
        "%matplotlib inline"
      ]
    },
    {
      "cell_type": "markdown",
      "source": [
        "# Import des donneés"
      ],
      "metadata": {
        "id": "o3l2T9PfYAGw"
      }
    },
    {
      "cell_type": "code",
      "source": [
        "from google.colab import drive\n",
        "drive.mount('/content/drive/')"
      ],
      "metadata": {
        "colab": {
          "base_uri": "https://localhost:8080/"
        },
        "id": "4e56i1JMXHnK",
        "outputId": "315da2d4-7c75-4a5e-87f8-e0dc411b1afe"
      },
      "execution_count": 35,
      "outputs": [
        {
          "output_type": "stream",
          "name": "stdout",
          "text": [
            "Drive already mounted at /content/drive/; to attempt to forcibly remount, call drive.mount(\"/content/drive/\", force_remount=True).\n"
          ]
        }
      ]
    },
    {
      "cell_type": "markdown",
      "source": [
        "# Evaluation des modèles"
      ],
      "metadata": {
        "id": "C79-mhIPwXI_"
      }
    },
    {
      "cell_type": "code",
      "source": [
        "from sklearn.metrics import multilabel_confusion_matrix, classification_report\n",
        "\n",
        "def evaluate_model(model, X_test, y_test):\n",
        "    ### Predict\n",
        "    y_pred = np.zeros((X_test.shape[0], 5))\n",
        "    for y in range(y_pred.shape[0]):\n",
        "        y_pred[y, np.argmax(model.predict(np.expand_dims(X_test[y], axis=0)))] = 1\n",
        "    ### Confusion Matrix\n",
        "    ### Scores\n",
        "    print('\\n\\n')\n",
        "    print(classification_report(y_test,y_pred))"
      ],
      "metadata": {
        "id": "I2EL0OecwW63"
      },
      "execution_count": 36,
      "outputs": []
    },
    {
      "cell_type": "markdown",
      "source": [
        "\n",
        "# Preparation des sets"
      ],
      "metadata": {
        "id": "Y8W3F5IMYye6"
      }
    },
    {
      "cell_type": "code",
      "source": [
        "from numpy import expand_dims\n",
        "import tensorflow as tf\n",
        "from keras.preprocessing.image import load_img\n",
        "from keras.preprocessing.image import img_to_array\n",
        "from keras.preprocessing.image import ImageDataGenerator\n",
        "from skimage.transform import resize\n",
        "from tqdm.notebook import trange, tqdm\n",
        "\n",
        "np.random.seed(1)\n",
        "train_data_dir = '/content/drive/MyDrive/Colab Notebooks/OpenClassRooms/6/Images'\n",
        "\n",
        "img_width, img_height = 224, 224 \n",
        "batch_size = 32"
      ],
      "metadata": {
        "id": "zweFmsSiZnoE"
      },
      "execution_count": 37,
      "outputs": []
    },
    {
      "cell_type": "code",
      "source": [
        "data_datagen = ImageDataGenerator(\n",
        "    rescale= 1./255,\n",
        "    shear_range = 0.2,\n",
        "    zoom_range = 0.2,\n",
        "    horizontal_flip = True,\n",
        "    rotation_range = 20,\n",
        "    width_shift_range = 0.2,\n",
        "    height_shift_range = 0.2,\n",
        "    validation_split=0.2\n",
        "    )"
      ],
      "metadata": {
        "id": "5dBxI8DL7aq1"
      },
      "execution_count": 5,
      "outputs": []
    },
    {
      "cell_type": "code",
      "source": [
        "train_generator = data_datagen.flow_from_directory(  \n",
        "    train_data_dir,  \n",
        "    target_size= (img_width, img_height), \n",
        "    color_mode= 'rgb',\n",
        "    batch_size= batch_size,  \n",
        "    class_mode= 'categorical',\n",
        "    subset='training',\n",
        "    shuffle= True, \n",
        "    seed= 1\n",
        ") \n",
        "\n",
        "valid_generator = data_datagen.flow_from_directory(\n",
        "    train_data_dir,\n",
        "    target_size= (img_width, img_height),\n",
        "    color_mode= 'rgb',\n",
        "    batch_size= batch_size,  \n",
        "    class_mode= 'categorical',\n",
        "    subset='validation',\n",
        "    shuffle= True, \n",
        "    seed= 1\n",
        ")"
      ],
      "metadata": {
        "id": "Mm3sdEXN7Y-o",
        "outputId": "077bdf9e-78a5-439f-8566-94cdf76a7feb",
        "colab": {
          "base_uri": "https://localhost:8080/"
        }
      },
      "execution_count": 6,
      "outputs": [
        {
          "output_type": "stream",
          "name": "stdout",
          "text": [
            "Found 16509 images belonging to 120 classes.\n",
            "Found 4072 images belonging to 120 classes.\n"
          ]
        }
      ]
    },
    {
      "cell_type": "code",
      "source": [
        "num_classes = len(train_generator.class_indices)  \n",
        "train_labels = train_generator.classes \n",
        "train_labels = tf.keras.utils.to_categorical(train_labels, num_classes=num_classes)\n",
        "valid_labels = valid_generator.classes \n",
        "valid_labels = tf.keras.utils.to_categorical(valid_labels, num_classes=num_classes)\n",
        "nb_train_samples = len(train_generator.filenames)  \n",
        "nb_valid_samples = len(valid_generator.filenames)"
      ],
      "metadata": {
        "id": "HkF6kxyG-GeT"
      },
      "execution_count": 7,
      "outputs": []
    },
    {
      "cell_type": "markdown",
      "source": [
        "# Import du modèle d'apprentissage"
      ],
      "metadata": {
        "id": "rOQ4vtBOf_C7"
      }
    },
    {
      "cell_type": "code",
      "source": [
        "import tensorflow as tf\n",
        "from tensorflow.keras import Sequential\n",
        "from tensorflow.keras.layers import Dense, Flatten, Dropout\n",
        "\n",
        "def import_model(conv_model_type, input_shape=(224, 224, 3), weights=None, train_state=True, custom_model=None, lr=1e-3):\n",
        "    if custom_model is not None:\n",
        "        include_top = False\n",
        "    else:\n",
        "        include_top = True\n",
        "    if conv_model_type == 'vgg':\n",
        "        conv_model = tf.keras.applications.VGG16(\n",
        "        include_top=include_top,\n",
        "        input_shape=input_shape,\n",
        "        weights=weights,\n",
        "        input_tensor=None,\n",
        "        pooling=None,\n",
        "        classes=5,\n",
        "        classifier_activation=\"softmax\",\n",
        "        )\n",
        "    else:\n",
        "        conv_model = tf.keras.applications.RestNet50(\n",
        "        include_top=include_top,\n",
        "        weights=weights,\n",
        "        input_shape=input_shape,\n",
        "        input_tensor=None,\n",
        "        pooling=None,\n",
        "        classes=5,\n",
        "        classifier_activation=\"softmax\",\n",
        "        )\n",
        "\n",
        "    # Freeze the pretrained weights\n",
        "    conv_model.trainable = train_state\n",
        "\n",
        "    # Construction du model\n",
        "    model = Sequential()\n",
        "    model.add(conv_model)\n",
        "    if custom_model is not None:\n",
        "        model.add(custom_model)\n",
        "\n",
        "    # Summary\n",
        "    model.summary()\n",
        "    conv_model.summary()\n",
        "    if custom_model is not None:\n",
        "        custom_model.summary()\n",
        "\n",
        "    # Compile\n",
        "    model.compile(\n",
        "    optimizer= tf.keras.optimizers.Adam(learning_rate=lr), \n",
        "    loss= 'categorical_crossentropy',\n",
        "    metrics= ['accuracy']\n",
        "    )\n",
        "\n",
        "    return model"
      ],
      "metadata": {
        "id": "NLQEQb4ZDmWy"
      },
      "execution_count": 8,
      "outputs": []
    },
    {
      "cell_type": "code",
      "source": [
        "## Custom model 1\n",
        "configuration_1 = Sequential(\n",
        "    layers=[\n",
        "            Flatten(),\n",
        "            Dense(4096, activation='relu'),\n",
        "            Dropout(0.2),\n",
        "            Dense(1024, activation='relu'),\n",
        "            Dropout(0.2),\n",
        "            Dense(120, activation='softmax')\n",
        "    ],\n",
        "    name = 'custom_config_1')"
      ],
      "metadata": {
        "id": "tLlIVdrdPVKN"
      },
      "execution_count": 9,
      "outputs": []
    },
    {
      "cell_type": "markdown",
      "source": [
        "### Modele from scratch\n"
      ],
      "metadata": {
        "id": "mB4c7w-I_Pxz"
      }
    },
    {
      "cell_type": "code",
      "source": [
        "epochs = 30\n",
        "\n",
        "model = import_model(conv_model_type='vgg', input_shape=(224, 224, 3), weights=None, train_state=True, custom_model=configuration_1, lr=1e-3)\n",
        "\n",
        "history = model.fit(\n",
        "    train_generator, \n",
        "    epochs = epochs,\n",
        "    steps_per_epoch = nb_train_samples//batch_size,\n",
        "    validation_data = valid_generator, \n",
        "    validation_steps = nb_valid_samples//batch_size,\n",
        "    verbose = 1, \n",
        "    shuffle = True\n",
        ")\n",
        "\n",
        "plt.subplot()\n",
        "plt.title('Model Accuracy')\n",
        "plt.plot(history.history['accuracy'])\n",
        "plt.plot(history.history['val_accuracy'])\n",
        "plt.ylabel('Accuracy')\n",
        "plt.xlabel('Epochs')\n",
        "plt.legend(['Training Accuracy','Validation Accuracy'])\n",
        "plt.show()\n",
        "\n",
        "plt.title('Model Loss')\n",
        "plt.plot(history.history['loss'])\n",
        "plt.plot(history.history['val_loss'])\n",
        "plt.ylabel('Loss')\n",
        "plt.xlabel('Epochs')\n",
        "plt.legend(['Training Loss','Validation Loss'])\n",
        "plt.show()"
      ],
      "metadata": {
        "id": "91XZf7OBq7Ae",
        "colab": {
          "base_uri": "https://localhost:8080/",
          "height": 1000
        },
        "outputId": "ca8d9d58-22cc-425f-c3f2-9dddcb86837a"
      },
      "execution_count": 10,
      "outputs": [
        {
          "output_type": "stream",
          "name": "stdout",
          "text": [
            "Model: \"sequential\"\n",
            "_________________________________________________________________\n",
            " Layer (type)                Output Shape              Param #   \n",
            "=================================================================\n",
            " vgg16 (Functional)          (None, 7, 7, 512)         14714688  \n",
            "                                                                 \n",
            " custom_config_1 (Sequential  (None, 120)              107082872 \n",
            " )                                                               \n",
            "                                                                 \n",
            "=================================================================\n",
            "Total params: 121,797,560\n",
            "Trainable params: 121,797,560\n",
            "Non-trainable params: 0\n",
            "_________________________________________________________________\n",
            "Model: \"vgg16\"\n",
            "_________________________________________________________________\n",
            " Layer (type)                Output Shape              Param #   \n",
            "=================================================================\n",
            " input_1 (InputLayer)        [(None, 224, 224, 3)]     0         \n",
            "                                                                 \n",
            " block1_conv1 (Conv2D)       (None, 224, 224, 64)      1792      \n",
            "                                                                 \n",
            " block1_conv2 (Conv2D)       (None, 224, 224, 64)      36928     \n",
            "                                                                 \n",
            " block1_pool (MaxPooling2D)  (None, 112, 112, 64)      0         \n",
            "                                                                 \n",
            " block2_conv1 (Conv2D)       (None, 112, 112, 128)     73856     \n",
            "                                                                 \n",
            " block2_conv2 (Conv2D)       (None, 112, 112, 128)     147584    \n",
            "                                                                 \n",
            " block2_pool (MaxPooling2D)  (None, 56, 56, 128)       0         \n",
            "                                                                 \n",
            " block3_conv1 (Conv2D)       (None, 56, 56, 256)       295168    \n",
            "                                                                 \n",
            " block3_conv2 (Conv2D)       (None, 56, 56, 256)       590080    \n",
            "                                                                 \n",
            " block3_conv3 (Conv2D)       (None, 56, 56, 256)       590080    \n",
            "                                                                 \n",
            " block3_pool (MaxPooling2D)  (None, 28, 28, 256)       0         \n",
            "                                                                 \n",
            " block4_conv1 (Conv2D)       (None, 28, 28, 512)       1180160   \n",
            "                                                                 \n",
            " block4_conv2 (Conv2D)       (None, 28, 28, 512)       2359808   \n",
            "                                                                 \n",
            " block4_conv3 (Conv2D)       (None, 28, 28, 512)       2359808   \n",
            "                                                                 \n",
            " block4_pool (MaxPooling2D)  (None, 14, 14, 512)       0         \n",
            "                                                                 \n",
            " block5_conv1 (Conv2D)       (None, 14, 14, 512)       2359808   \n",
            "                                                                 \n",
            " block5_conv2 (Conv2D)       (None, 14, 14, 512)       2359808   \n",
            "                                                                 \n",
            " block5_conv3 (Conv2D)       (None, 14, 14, 512)       2359808   \n",
            "                                                                 \n",
            " block5_pool (MaxPooling2D)  (None, 7, 7, 512)         0         \n",
            "                                                                 \n",
            "=================================================================\n",
            "Total params: 14,714,688\n",
            "Trainable params: 14,714,688\n",
            "Non-trainable params: 0\n",
            "_________________________________________________________________\n",
            "Model: \"custom_config_1\"\n",
            "_________________________________________________________________\n",
            " Layer (type)                Output Shape              Param #   \n",
            "=================================================================\n",
            " flatten (Flatten)           (None, 25088)             0         \n",
            "                                                                 \n",
            " dense (Dense)               (None, 4096)              102764544 \n",
            "                                                                 \n",
            " dropout (Dropout)           (None, 4096)              0         \n",
            "                                                                 \n",
            " dense_1 (Dense)             (None, 1024)              4195328   \n",
            "                                                                 \n",
            " dropout_1 (Dropout)         (None, 1024)              0         \n",
            "                                                                 \n",
            " dense_2 (Dense)             (None, 120)               123000    \n",
            "                                                                 \n",
            "=================================================================\n",
            "Total params: 107,082,872\n",
            "Trainable params: 107,082,872\n",
            "Non-trainable params: 0\n",
            "_________________________________________________________________\n",
            "Epoch 1/30\n",
            "515/515 [==============================] - 9266s 18s/step - loss: 4.7875 - accuracy: 0.0112 - val_loss: 4.7798 - val_accuracy: 0.0123\n",
            "Epoch 2/30\n",
            "515/515 [==============================] - 340s 660ms/step - loss: 4.7828 - accuracy: 0.0118 - val_loss: 4.7793 - val_accuracy: 0.0123\n",
            "Epoch 3/30\n",
            "515/515 [==============================] - 340s 660ms/step - loss: 4.7817 - accuracy: 0.0120 - val_loss: 4.7791 - val_accuracy: 0.0123\n",
            "Epoch 4/30\n",
            "515/515 [==============================] - 340s 659ms/step - loss: 4.7815 - accuracy: 0.0123 - val_loss: 4.7789 - val_accuracy: 0.0123\n",
            "Epoch 5/30\n",
            "515/515 [==============================] - 342s 664ms/step - loss: 4.7812 - accuracy: 0.0121 - val_loss: 4.7789 - val_accuracy: 0.0123\n",
            "Epoch 6/30\n",
            "515/515 [==============================] - 340s 661ms/step - loss: 4.7809 - accuracy: 0.0117 - val_loss: 4.7791 - val_accuracy: 0.0123\n",
            "Epoch 7/30\n",
            "515/515 [==============================] - 340s 660ms/step - loss: 4.7808 - accuracy: 0.0119 - val_loss: 4.7792 - val_accuracy: 0.0123\n",
            "Epoch 8/30\n",
            "515/515 [==============================] - 340s 661ms/step - loss: 4.7806 - accuracy: 0.0123 - val_loss: 4.7788 - val_accuracy: 0.0123\n",
            "Epoch 9/30\n",
            "515/515 [==============================] - 341s 662ms/step - loss: 4.7806 - accuracy: 0.0121 - val_loss: 4.7792 - val_accuracy: 0.0123\n",
            "Epoch 10/30\n",
            "515/515 [==============================] - 340s 660ms/step - loss: 4.7804 - accuracy: 0.0123 - val_loss: 4.7792 - val_accuracy: 0.0121\n",
            "Epoch 11/30\n",
            "515/515 [==============================] - 340s 660ms/step - loss: 4.7805 - accuracy: 0.0123 - val_loss: 4.7790 - val_accuracy: 0.0123\n",
            "Epoch 12/30\n",
            "515/515 [==============================] - 340s 661ms/step - loss: 4.7805 - accuracy: 0.0122 - val_loss: 4.7790 - val_accuracy: 0.0123\n",
            "Epoch 13/30\n",
            "515/515 [==============================] - 339s 659ms/step - loss: 4.7803 - accuracy: 0.0123 - val_loss: 4.7790 - val_accuracy: 0.0123\n",
            "Epoch 14/30\n",
            "515/515 [==============================] - 341s 661ms/step - loss: 4.7803 - accuracy: 0.0123 - val_loss: 4.7790 - val_accuracy: 0.0123\n",
            "Epoch 15/30\n",
            "515/515 [==============================] - 346s 671ms/step - loss: 4.7801 - accuracy: 0.0123 - val_loss: 4.7789 - val_accuracy: 0.0123\n",
            "Epoch 16/30\n",
            "515/515 [==============================] - 344s 668ms/step - loss: 4.7801 - accuracy: 0.0121 - val_loss: 4.7788 - val_accuracy: 0.0123\n",
            "Epoch 17/30\n",
            "515/515 [==============================] - 341s 661ms/step - loss: 4.7802 - accuracy: 0.0123 - val_loss: 4.7788 - val_accuracy: 0.0123\n",
            "Epoch 18/30\n",
            "515/515 [==============================] - 341s 661ms/step - loss: 4.7799 - accuracy: 0.0122 - val_loss: 4.7789 - val_accuracy: 0.0123\n",
            "Epoch 19/30\n",
            "515/515 [==============================] - 341s 663ms/step - loss: 4.7801 - accuracy: 0.0123 - val_loss: 4.7788 - val_accuracy: 0.0123\n",
            "Epoch 20/30\n",
            "515/515 [==============================] - 341s 663ms/step - loss: 4.7801 - accuracy: 0.0121 - val_loss: 4.7789 - val_accuracy: 0.0123\n",
            "Epoch 21/30\n",
            "515/515 [==============================] - 340s 659ms/step - loss: 4.7799 - accuracy: 0.0123 - val_loss: 4.7789 - val_accuracy: 0.0123\n",
            "Epoch 22/30\n",
            "515/515 [==============================] - 341s 662ms/step - loss: 4.7801 - accuracy: 0.0123 - val_loss: 4.7787 - val_accuracy: 0.0123\n",
            "Epoch 23/30\n",
            "515/515 [==============================] - 339s 659ms/step - loss: 4.7799 - accuracy: 0.0122 - val_loss: 4.7787 - val_accuracy: 0.0123\n",
            "Epoch 24/30\n",
            "515/515 [==============================] - 338s 656ms/step - loss: 4.7799 - accuracy: 0.0123 - val_loss: 4.7790 - val_accuracy: 0.0121\n",
            "Epoch 25/30\n",
            "515/515 [==============================] - 338s 656ms/step - loss: 4.7799 - accuracy: 0.0123 - val_loss: 4.7787 - val_accuracy: 0.0121\n",
            "Epoch 26/30\n",
            "515/515 [==============================] - 339s 658ms/step - loss: 4.7799 - accuracy: 0.0120 - val_loss: 4.7787 - val_accuracy: 0.0123\n",
            "Epoch 27/30\n",
            "515/515 [==============================] - 341s 662ms/step - loss: 4.7798 - accuracy: 0.0123 - val_loss: 4.7788 - val_accuracy: 0.0121\n",
            "Epoch 28/30\n",
            "515/515 [==============================] - 342s 663ms/step - loss: 4.7798 - accuracy: 0.0123 - val_loss: 4.7788 - val_accuracy: 0.0123\n",
            "Epoch 29/30\n",
            "515/515 [==============================] - 342s 665ms/step - loss: 4.7798 - accuracy: 0.0123 - val_loss: 4.7789 - val_accuracy: 0.0123\n",
            "Epoch 30/30\n",
            "515/515 [==============================] - 344s 668ms/step - loss: 4.7799 - accuracy: 0.0122 - val_loss: 4.7788 - val_accuracy: 0.0123\n"
          ]
        },
        {
          "output_type": "display_data",
          "data": {
            "text/plain": [
              "<Figure size 432x288 with 1 Axes>"
            ],
            "image/png": "[encoded data removed]"
          },
          "metadata": {
            "needs_background": "light"
          }
        },
        {
          "output_type": "display_data",
          "data": {
            "text/plain": [
              "<Figure size 432x288 with 1 Axes>"
            ],
            "image/png": "[encoded data removed]"
          },
          "metadata": {
            "needs_background": "light"
          }
        }
      ]
    },
    {
      "cell_type": "code",
      "source": [
        "model.save('/content/drive/MyDrive/Colab Notebooks/OpenClassRooms/6/model_final_scratch')"
      ],
      "metadata": {
        "id": "NVcDwBFJBnl_",
        "colab": {
          "base_uri": "https://localhost:8080/"
        },
        "outputId": "c2f23a28-51c2-4164-f78b-8901cd088140"
      },
      "execution_count": 11,
      "outputs": [
        {
          "output_type": "stream",
          "name": "stdout",
          "text": [
            "INFO:tensorflow:Assets written to: /content/drive/MyDrive/Colab Notebooks/OpenClassRooms/6/model_final_scratch/assets\n"
          ]
        }
      ]
    },
    {
      "cell_type": "code",
      "source": [
        "model = tf.keras.models.load_model('/content/drive/MyDrive/Colab Notebooks/OpenClassRooms/6/model_final_scratch')"
      ],
      "metadata": {
        "id": "6Uvy5gHvCo6g"
      },
      "execution_count": 40,
      "outputs": []
    },
    {
      "cell_type": "code",
      "source": [
        "model.summary()"
      ],
      "metadata": {
        "colab": {
          "base_uri": "https://localhost:8080/"
        },
        "id": "BpIReItpEu5b",
        "outputId": "e75c6b75-26e2-48db-9355-99a71405b388"
      },
      "execution_count": 26,
      "outputs": [
        {
          "output_type": "stream",
          "name": "stdout",
          "text": [
            "Model: \"sequential\"\n",
            "_________________________________________________________________\n",
            " Layer (type)                Output Shape              Param #   \n",
            "=================================================================\n",
            " vgg16 (Functional)          (None, 7, 7, 512)         14714688  \n",
            "                                                                 \n",
            " custom_config_1 (Sequential  (None, 120)              107082872 \n",
            " )                                                               \n",
            "                                                                 \n",
            "=================================================================\n",
            "Total params: 121,797,560\n",
            "Trainable params: 121,797,560\n",
            "Non-trainable params: 0\n",
            "_________________________________________________________________\n"
          ]
        }
      ]
    },
    {
      "cell_type": "code",
      "source": [
        "model.layers[0].summary()"
      ],
      "metadata": {
        "colab": {
          "base_uri": "https://localhost:8080/"
        },
        "id": "dPXi3LJoEwnC",
        "outputId": "682e03a8-431f-4765-d933-a5746e6f6d0b"
      },
      "execution_count": 28,
      "outputs": [
        {
          "output_type": "stream",
          "name": "stdout",
          "text": [
            "Model: \"vgg16\"\n",
            "_________________________________________________________________\n",
            " Layer (type)                Output Shape              Param #   \n",
            "=================================================================\n",
            " input_1 (InputLayer)        [(None, 224, 224, 3)]     0         \n",
            "                                                                 \n",
            " block1_conv1 (Conv2D)       (None, 224, 224, 64)      1792      \n",
            "                                                                 \n",
            " block1_conv2 (Conv2D)       (None, 224, 224, 64)      36928     \n",
            "                                                                 \n",
            " block1_pool (MaxPooling2D)  (None, 112, 112, 64)      0         \n",
            "                                                                 \n",
            " block2_conv1 (Conv2D)       (None, 112, 112, 128)     73856     \n",
            "                                                                 \n",
            " block2_conv2 (Conv2D)       (None, 112, 112, 128)     147584    \n",
            "                                                                 \n",
            " block2_pool (MaxPooling2D)  (None, 56, 56, 128)       0         \n",
            "                                                                 \n",
            " block3_conv1 (Conv2D)       (None, 56, 56, 256)       295168    \n",
            "                                                                 \n",
            " block3_conv2 (Conv2D)       (None, 56, 56, 256)       590080    \n",
            "                                                                 \n",
            " block3_conv3 (Conv2D)       (None, 56, 56, 256)       590080    \n",
            "                                                                 \n",
            " block3_pool (MaxPooling2D)  (None, 28, 28, 256)       0         \n",
            "                                                                 \n",
            " block4_conv1 (Conv2D)       (None, 28, 28, 512)       1180160   \n",
            "                                                                 \n",
            " block4_conv2 (Conv2D)       (None, 28, 28, 512)       2359808   \n",
            "                                                                 \n",
            " block4_conv3 (Conv2D)       (None, 28, 28, 512)       2359808   \n",
            "                                                                 \n",
            " block4_pool (MaxPooling2D)  (None, 14, 14, 512)       0         \n",
            "                                                                 \n",
            " block5_conv1 (Conv2D)       (None, 14, 14, 512)       2359808   \n",
            "                                                                 \n",
            " block5_conv2 (Conv2D)       (None, 14, 14, 512)       2359808   \n",
            "                                                                 \n",
            " block5_conv3 (Conv2D)       (None, 14, 14, 512)       2359808   \n",
            "                                                                 \n",
            " block5_pool (MaxPooling2D)  (None, 7, 7, 512)         0         \n",
            "                                                                 \n",
            "=================================================================\n",
            "Total params: 14,714,688\n",
            "Trainable params: 14,714,688\n",
            "Non-trainable params: 0\n",
            "_________________________________________________________________\n"
          ]
        }
      ]
    },
    {
      "cell_type": "code",
      "source": [
        "model.layers[1].summary()"
      ],
      "metadata": {
        "colab": {
          "base_uri": "https://localhost:8080/"
        },
        "id": "jAcsqf8PPzbq",
        "outputId": "61f97ccd-991e-4ee3-e10d-3892a2d2efa7"
      },
      "execution_count": 73,
      "outputs": [
        {
          "output_type": "stream",
          "name": "stdout",
          "text": [
            "Model: \"custom_config_1\"\n",
            "_________________________________________________________________\n",
            " Layer (type)                Output Shape              Param #   \n",
            "=================================================================\n",
            " flatten (Flatten)           (None, 25088)             0         \n",
            "                                                                 \n",
            " dense (Dense)               (None, 4096)              102764544 \n",
            "                                                                 \n",
            " dropout (Dropout)           (None, 4096)              0         \n",
            "                                                                 \n",
            " dense_1 (Dense)             (None, 1024)              4195328   \n",
            "                                                                 \n",
            " dropout_1 (Dropout)         (None, 1024)              0         \n",
            "                                                                 \n",
            " dense_2 (Dense)             (None, 120)               123000    \n",
            "                                                                 \n",
            "=================================================================\n",
            "Total params: 107,082,872\n",
            "Trainable params: 107,082,872\n",
            "Non-trainable params: 0\n",
            "_________________________________________________________________\n"
          ]
        }
      ]
    },
    {
      "cell_type": "code",
      "source": [
        "test_datagen = ImageDataGenerator(rescale=1./255, validation_split=0.2)\n",
        "\n",
        "test_generator = test_datagen.flow_from_directory(\n",
        "    '/content/drive/MyDrive/Colab Notebooks/OpenClassRooms/6/Images',\n",
        "    seed=1,\n",
        "    target_size=(224, 224),\n",
        "    batch_size=32,\n",
        "    subset='validation',\n",
        "    shuffle=False)"
      ],
      "metadata": {
        "colab": {
          "base_uri": "https://localhost:8080/"
        },
        "id": "VyG_opORGPEv",
        "outputId": "eaf9ac6d-6e8d-4162-ad66-99173883aa20"
      },
      "execution_count": 62,
      "outputs": [
        {
          "output_type": "stream",
          "name": "stdout",
          "text": [
            "Found 4072 images belonging to 120 classes.\n"
          ]
        }
      ]
    },
    {
      "cell_type": "code",
      "source": [
        "pred= model.predict(test_generator, steps=len(test_generator), verbose=1)"
      ],
      "metadata": {
        "colab": {
          "base_uri": "https://localhost:8080/"
        },
        "id": "JWimT1f3KVIr",
        "outputId": "596af534-a91e-494b-86b8-5a52c02597f8"
      },
      "execution_count": 63,
      "outputs": [
        {
          "output_type": "stream",
          "name": "stdout",
          "text": [
            "128/128 [==============================] - 22s 172ms/step\n"
          ]
        }
      ]
    },
    {
      "cell_type": "code",
      "source": [
        "predicted_class_indices = np.argmax(pred,axis=1)\n",
        "labels = (test_generator.class_indices)\n",
        "labels2 = dict((v,k) for k,v in labels.items())\n",
        "predictions = [labels2[k] for k in predicted_class_indices]\n",
        "y_true = [labels2[k] for k in test_generator.classes]"
      ],
      "metadata": {
        "id": "xtjc0X68Iojw"
      },
      "execution_count": 71,
      "outputs": []
    },
    {
      "cell_type": "code",
      "source": [
        "print(classification_report(y_true,predictions))"
      ],
      "metadata": {
        "colab": {
          "base_uri": "https://localhost:8080/"
        },
        "id": "XECLe-B4JLEC",
        "outputId": "f1fcbb1c-636f-4682-e1dd-02cf62d1b214"
      },
      "execution_count": 72,
      "outputs": [
        {
          "output_type": "stream",
          "name": "stdout",
          "text": [
            "                                          precision    recall  f1-score   support\n",
            "\n",
            "                     n02085620-Chihuahua       0.00      0.00      0.00        30\n",
            "              n02085782-Japanese_spaniel       0.00      0.00      0.00        37\n",
            "                   n02085936-Maltese_dog       0.01      1.00      0.02        50\n",
            "                      n02086079-Pekinese       0.00      0.00      0.00        29\n",
            "                      n02086240-Shih-Tzu       0.00      0.00      0.00        42\n",
            "              n02086646-Blenheim_spaniel       0.00      0.00      0.00        37\n",
            "                      n02086910-papillon       0.00      0.00      0.00        39\n",
            "                   n02087046-toy_terrier       0.00      0.00      0.00        34\n",
            "           n02087394-Rhodesian_ridgeback       0.00      0.00      0.00        34\n",
            "                  n02088094-Afghan_hound       0.00      0.00      0.00        47\n",
            "                        n02088238-basset       0.00      0.00      0.00        35\n",
            "                        n02088364-beagle       0.00      0.00      0.00        39\n",
            "                    n02088466-bloodhound       0.00      0.00      0.00        37\n",
            "                      n02088632-bluetick       0.00      0.00      0.00        34\n",
            "       n02089078-black-and-tan_coonhound       0.00      0.00      0.00        31\n",
            "                  n02089867-Walker_hound       0.00      0.00      0.00        30\n",
            "              n02089973-English_foxhound       0.00      0.00      0.00        31\n",
            "                       n02090379-redbone       0.00      0.00      0.00        29\n",
            "                        n02090622-borzoi       0.00      0.00      0.00        30\n",
            "               n02090721-Irish_wolfhound       0.00      0.00      0.00        43\n",
            "             n02091032-Italian_greyhound       0.00      0.00      0.00        36\n",
            "                       n02091134-whippet       0.00      0.00      0.00        37\n",
            "                  n02091244-Ibizan_hound       0.00      0.00      0.00        37\n",
            "            n02091467-Norwegian_elkhound       0.00      0.00      0.00        39\n",
            "                    n02091635-otterhound       0.00      0.00      0.00        30\n",
            "                        n02091831-Saluki       0.00      0.00      0.00        40\n",
            "            n02092002-Scottish_deerhound       0.00      0.00      0.00        46\n",
            "                    n02092339-Weimaraner       0.00      0.00      0.00        32\n",
            "     n02093256-Staffordshire_bullterrier       0.00      0.00      0.00        31\n",
            "n02093428-American_Staffordshire_terrier       0.00      0.00      0.00        32\n",
            "            n02093647-Bedlington_terrier       0.00      0.00      0.00        36\n",
            "                n02093754-Border_terrier       0.00      0.00      0.00        34\n",
            "            n02093859-Kerry_blue_terrier       0.00      0.00      0.00        35\n",
            "                 n02093991-Irish_terrier       0.00      0.00      0.00        33\n",
            "               n02094114-Norfolk_terrier       0.00      0.00      0.00        34\n",
            "               n02094258-Norwich_terrier       0.00      0.00      0.00        37\n",
            "             n02094433-Yorkshire_terrier       0.00      0.00      0.00        32\n",
            "       n02095314-wire-haired_fox_terrier       0.00      0.00      0.00        31\n",
            "              n02095570-Lakeland_terrier       0.00      0.00      0.00        39\n",
            "              n02095889-Sealyham_terrier       0.00      0.00      0.00        40\n",
            "                      n02096051-Airedale       0.00      0.00      0.00        40\n",
            "                         n02096177-cairn       0.00      0.00      0.00        39\n",
            "            n02096294-Australian_terrier       0.00      0.00      0.00        39\n",
            "                n02096437-Dandie_Dinmont       0.00      0.00      0.00        36\n",
            "                   n02096585-Boston_bull       0.00      0.00      0.00        36\n",
            "           n02097047-miniature_schnauzer       0.00      0.00      0.00        30\n",
            "               n02097130-giant_schnauzer       0.00      0.00      0.00        31\n",
            "            n02097209-standard_schnauzer       0.00      0.00      0.00        31\n",
            "                n02097298-Scotch_terrier       0.00      0.00      0.00        31\n",
            "               n02097474-Tibetan_terrier       0.00      0.00      0.00        41\n",
            "                 n02097658-silky_terrier       0.00      0.00      0.00        36\n",
            "   n02098105-soft-coated_wheaten_terrier       0.00      0.00      0.00        31\n",
            "   n02098286-West_Highland_white_terrier       0.00      0.00      0.00        33\n",
            "                         n02098413-Lhasa       0.00      0.00      0.00        37\n",
            "         n02099267-flat-coated_retriever       0.00      0.00      0.00        30\n",
            "        n02099429-curly-coated_retriever       0.00      0.00      0.00        30\n",
            "              n02099601-golden_retriever       0.00      0.00      0.00        30\n",
            "            n02099712-Labrador_retriever       0.00      0.00      0.00        34\n",
            "      n02099849-Chesapeake_Bay_retriever       0.00      0.00      0.00        33\n",
            "   n02100236-German_short-haired_pointer       0.00      0.00      0.00        30\n",
            "                        n02100583-vizsla       0.00      0.00      0.00        30\n",
            "                n02100735-English_setter       0.00      0.00      0.00        32\n",
            "                  n02100877-Irish_setter       0.00      0.00      0.00        31\n",
            "                 n02101006-Gordon_setter       0.00      0.00      0.00        30\n",
            "              n02101388-Brittany_spaniel       0.00      0.00      0.00        30\n",
            "                       n02101556-clumber       0.00      0.00      0.00        30\n",
            "              n02102040-English_springer       0.00      0.00      0.00        31\n",
            "        n02102177-Welsh_springer_spaniel       0.00      0.00      0.00        30\n",
            "                n02102318-cocker_spaniel       0.00      0.00      0.00        31\n",
            "                n02102480-Sussex_spaniel       0.00      0.00      0.00        30\n",
            "           n02102973-Irish_water_spaniel       0.00      0.00      0.00        30\n",
            "                        n02104029-kuvasz       0.00      0.00      0.00        30\n",
            "                    n02104365-schipperke       0.00      0.00      0.00        30\n",
            "                   n02105056-groenendael       0.00      0.00      0.00        30\n",
            "                      n02105162-malinois       0.00      0.00      0.00        30\n",
            "                        n02105251-briard       0.00      0.00      0.00        30\n",
            "                        n02105412-kelpie       0.00      0.00      0.00        30\n",
            "                      n02105505-komondor       0.00      0.00      0.00        30\n",
            "          n02105641-Old_English_sheepdog       0.00      0.00      0.00        33\n",
            "             n02105855-Shetland_sheepdog       0.00      0.00      0.00        31\n",
            "                        n02106030-collie       0.00      0.00      0.00        30\n",
            "                 n02106166-Border_collie       0.00      0.00      0.00        30\n",
            "          n02106382-Bouvier_des_Flandres       0.00      0.00      0.00        30\n",
            "                    n02106550-Rottweiler       0.00      0.00      0.00        30\n",
            "               n02106662-German_shepherd       0.00      0.00      0.00        30\n",
            "                      n02107142-Doberman       0.00      0.00      0.00        30\n",
            "            n02107312-miniature_pinscher       0.00      0.00      0.00        36\n",
            "    n02107574-Greater_Swiss_Mountain_dog       0.00      0.00      0.00        33\n",
            "          n02107683-Bernese_mountain_dog       0.00      0.00      0.00        43\n",
            "                   n02107908-Appenzeller       0.00      0.00      0.00        30\n",
            "                   n02108000-EntleBucher       0.00      0.00      0.00        40\n",
            "                         n02108089-boxer       0.00      0.00      0.00        30\n",
            "                  n02108422-bull_mastiff       0.00      0.00      0.00        31\n",
            "               n02108551-Tibetan_mastiff       0.00      0.00      0.00        30\n",
            "                n02108915-French_bulldog       0.00      0.00      0.00        31\n",
            "                    n02109047-Great_Dane       0.00      0.00      0.00        31\n",
            "                 n02109525-Saint_Bernard       0.00      0.00      0.00        34\n",
            "                    n02109961-Eskimo_dog       0.00      0.00      0.00        30\n",
            "                      n02110063-malamute       0.00      0.00      0.00        35\n",
            "                n02110185-Siberian_husky       0.00      0.00      0.00        38\n",
            "                 n02110627-affenpinscher       0.00      0.00      0.00        30\n",
            "                       n02110806-basenji       0.00      0.00      0.00        41\n",
            "                           n02110958-pug       0.00      0.00      0.00        40\n",
            "                      n02111129-Leonberg       0.00      0.00      0.00        42\n",
            "                  n02111277-Newfoundland       0.00      0.00      0.00        39\n",
            "                n02111500-Great_Pyrenees       0.00      0.00      0.00        42\n",
            "                       n02111889-Samoyed       0.00      0.00      0.00        43\n",
            "                    n02112018-Pomeranian       0.00      0.00      0.00        43\n",
            "                          n02112137-chow       0.00      0.00      0.00        39\n",
            "                      n02112350-keeshond       0.00      0.00      0.00        31\n",
            "             n02112706-Brabancon_griffon       0.00      0.00      0.00        30\n",
            "                      n02113023-Pembroke       0.00      0.00      0.00        36\n",
            "                      n02113186-Cardigan       0.00      0.00      0.00        31\n",
            "                    n02113624-toy_poodle       0.00      0.00      0.00        30\n",
            "              n02113712-miniature_poodle       0.00      0.00      0.00        31\n",
            "               n02113799-standard_poodle       0.00      0.00      0.00        31\n",
            "              n02113978-Mexican_hairless       0.00      0.00      0.00        31\n",
            "                         n02115641-dingo       0.00      0.00      0.00        31\n",
            "                         n02115913-dhole       0.00      0.00      0.00        30\n",
            "           n02116738-African_hunting_dog       0.00      0.00      0.00        33\n",
            "\n",
            "                                accuracy                           0.01      4072\n",
            "                               macro avg       0.00      0.01      0.00      4072\n",
            "                            weighted avg       0.00      0.01      0.00      4072\n",
            "\n"
          ]
        },
        {
          "output_type": "stream",
          "name": "stderr",
          "text": [
            "/usr/local/lib/python3.7/dist-packages/sklearn/metrics/_classification.py:1318: UndefinedMetricWarning: Precision and F-score are ill-defined and being set to 0.0 in labels with no predicted samples. Use `zero_division` parameter to control this behavior.\n",
            "  _warn_prf(average, modifier, msg_start, len(result))\n",
            "/usr/local/lib/python3.7/dist-packages/sklearn/metrics/_classification.py:1318: UndefinedMetricWarning: Precision and F-score are ill-defined and being set to 0.0 in labels with no predicted samples. Use `zero_division` parameter to control this behavior.\n",
            "  _warn_prf(average, modifier, msg_start, len(result))\n",
            "/usr/local/lib/python3.7/dist-packages/sklearn/metrics/_classification.py:1318: UndefinedMetricWarning: Precision and F-score are ill-defined and being set to 0.0 in labels with no predicted samples. Use `zero_division` parameter to control this behavior.\n",
            "  _warn_prf(average, modifier, msg_start, len(result))\n"
          ]
        }
      ]
    }
  ]
}