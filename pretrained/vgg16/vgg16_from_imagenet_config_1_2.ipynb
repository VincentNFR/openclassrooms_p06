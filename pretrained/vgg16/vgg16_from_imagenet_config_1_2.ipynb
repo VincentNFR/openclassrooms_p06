{
  "nbformat": 4,
  "nbformat_minor": 0,
  "metadata": {
    "colab": {
      "name": "Copie de Copie de Untitled2.ipynb",
      "provenance": [],
      "collapsed_sections": [],
      "mount_file_id": "1F76mPPOaCIZ-vyqgWfVPhu5X7oc_HgZK",
      "authorship_tag": "ABX9TyPVFQgoja4+up3Jcm9euTiu",
      "include_colab_link": true
    },
    "kernelspec": {
      "name": "python3",
      "display_name": "Python 3"
    },
    "language_info": {
      "name": "python"
    },
    "accelerator": "GPU"
  },
  "cells": [
    {
      "cell_type": "markdown",
      "metadata": {
        "id": "view-in-github",
        "colab_type": "text"
      },
      "source": [
        "<a href=\"https://colab.research.google.com/github/VincentNFR/openclassrooms_p06/blob/main/vgg16_from_imagenet_config_1_2.ipynb\" target=\"_parent\"><img src=\"https://colab.research.google.com/assets/colab-badge.svg\" alt=\"Open In Colab\"/></a>"
      ]
    },
    {
      "cell_type": "code",
      "execution_count": 26,
      "metadata": {
        "id": "tSRsFkPQXCAh"
      },
      "outputs": [],
      "source": [
        "import tensorflow as tf\n",
        "import numpy as np \n",
        "import pandas as pd\n",
        "import matplotlib.pyplot as plt\n",
        "import seaborn as sns\n",
        "\n",
        "\n",
        "%matplotlib inline"
      ]
    },
    {
      "cell_type": "markdown",
      "source": [
        "# Import des donneés"
      ],
      "metadata": {
        "id": "o3l2T9PfYAGw"
      }
    },
    {
      "cell_type": "code",
      "source": [
        "from google.colab import drive\n",
        "drive.mount('/content/drive/')"
      ],
      "metadata": {
        "colab": {
          "base_uri": "https://localhost:8080/"
        },
        "id": "4e56i1JMXHnK",
        "outputId": "b14bfb30-1547-4afc-fa31-c74138373910"
      },
      "execution_count": 27,
      "outputs": [
        {
          "output_type": "stream",
          "name": "stdout",
          "text": [
            "Drive already mounted at /content/drive/; to attempt to forcibly remount, call drive.mount(\"/content/drive/\", force_remount=True).\n"
          ]
        }
      ]
    },
    {
      "cell_type": "code",
      "source": [
        "convert_labels = {0: 'afghan_hound', 1: 'maltese_dog', 2: 'pomeranian', 3: 'samoyed', 4: 'scottish_deerhound'}"
      ],
      "metadata": {
        "id": "owZsNxrV-lPR"
      },
      "execution_count": 28,
      "outputs": []
    },
    {
      "cell_type": "code",
      "source": [
        "# Save train\n",
        "X_train = np.load('/content/drive/MyDrive/Colab Notebooks/OpenClassRooms/6/data/X_train.npy', allow_pickle=True)\n",
        "y_train = np.load('/content/drive/MyDrive/Colab Notebooks/OpenClassRooms/6/data/y_train.npy', allow_pickle=True)\n",
        "# Save validation\n",
        "X_val = np.load('/content/drive/MyDrive/Colab Notebooks/OpenClassRooms/6/data/X_val.npy', allow_pickle=True)\n",
        "y_val = np.load('/content/drive/MyDrive/Colab Notebooks/OpenClassRooms/6/data/y_val.npy', allow_pickle=True)\n",
        "# Save test\n",
        "X_test = np.load('/content/drive/MyDrive/Colab Notebooks/OpenClassRooms/6/data/X_test.npy', allow_pickle=True)\n",
        "y_test = np.load('/content/drive/MyDrive/Colab Notebooks/OpenClassRooms/6/data/y_test.npy', allow_pickle=True)"
      ],
      "metadata": {
        "id": "c_MdPBBFXdV5"
      },
      "execution_count": 29,
      "outputs": []
    },
    {
      "cell_type": "code",
      "source": [
        "X_train.shape, X_val.shape, X_test.shape"
      ],
      "metadata": {
        "colab": {
          "base_uri": "https://localhost:8080/"
        },
        "id": "jUbas5tqYJkT",
        "outputId": "3bd2ec6b-3436-438c-be7d-350c08ea3716"
      },
      "execution_count": 30,
      "outputs": [
        {
          "output_type": "execute_result",
          "data": {
            "text/plain": [
              "((1749, 224, 224, 3), (375, 224, 224, 3), (376, 224, 224, 3))"
            ]
          },
          "metadata": {},
          "execution_count": 30
        }
      ]
    },
    {
      "cell_type": "code",
      "source": [
        "y_train.shape, y_val.shape, y_test.shape"
      ],
      "metadata": {
        "id": "ztrj9lrbzDPO",
        "outputId": "fa1fe2b0-c9be-46c6-b1c9-4ce259b48797",
        "colab": {
          "base_uri": "https://localhost:8080/"
        }
      },
      "execution_count": 31,
      "outputs": [
        {
          "output_type": "execute_result",
          "data": {
            "text/plain": [
              "((1749, 5), (375, 5), (376, 5))"
            ]
          },
          "metadata": {},
          "execution_count": 31
        }
      ]
    },
    {
      "cell_type": "markdown",
      "source": [
        "# Evaluation des modèles"
      ],
      "metadata": {
        "id": "C79-mhIPwXI_"
      }
    },
    {
      "cell_type": "code",
      "source": [
        "from sklearn.metrics import multilabel_confusion_matrix, classification_report\n",
        "\n",
        "def print_confusion_matrix(confusion_matrix, axes, class_label, class_names, fontsize=14):\n",
        "\n",
        "    df_cm = pd.DataFrame(\n",
        "        confusion_matrix, index=class_names, columns=class_names,\n",
        "    )\n",
        "\n",
        "    try:\n",
        "        heatmap = sns.heatmap(df_cm, annot=True, fmt=\"d\", cbar=False, ax=axes)\n",
        "    except ValueError:\n",
        "        raise ValueError(\"Confusion matrix values must be integers.\")\n",
        "    heatmap.yaxis.set_ticklabels(heatmap.yaxis.get_ticklabels(), rotation=0, ha='right', fontsize=fontsize)\n",
        "    heatmap.xaxis.set_ticklabels(heatmap.xaxis.get_ticklabels(), rotation=0, ha='right', fontsize=fontsize)\n",
        "    axes.set_ylabel('True label')\n",
        "    axes.set_xlabel('Predicted label')\n",
        "    axes.set_title(\"Confusion Matrix\\n for the class\\n\" + class_label)\n",
        "\n",
        "def get_confusion_matrix(y_test, y_pred):\n",
        "    m = multilabel_confusion_matrix(y_test, y_pred)\n",
        "\n",
        "    plt.figure(figsize=(8,12), facecolor='white')\n",
        "    fig, ax = plt.subplots(1, 5, figsize=(12, 4))\n",
        "    for i, [axes, cfs_matrix] in enumerate(zip(ax.flatten(), m)):\n",
        "        print_confusion_matrix(cfs_matrix, axes, convert_labels[i], [\"0\", \"1\"])\n",
        "\n",
        "    fig.subplots_adjust(left=0.1,\n",
        "                        bottom=0.1, \n",
        "                        right=0.9, \n",
        "                        top=0.9, \n",
        "                        wspace=0.4, \n",
        "                        hspace=0.4)\n",
        "    return fig\n",
        "\n",
        "\n",
        "def evaluate_model(model, X_test, y_test, convert_labels):\n",
        "    ### Predict\n",
        "    y_pred = np.zeros((X_test.shape[0], 5))\n",
        "    for y in range(y_pred.shape[0]):\n",
        "        y_pred[y, np.argmax(model.predict(np.expand_dims(X_test[y], axis=0)))] = 1\n",
        "    ### Confusion Matrix\n",
        "    get_confusion_matrix(y_test, y_pred).show()\n",
        "    ### Scores\n",
        "    print('\\n\\n')\n",
        "    print(classification_report(y_test,y_pred))"
      ],
      "metadata": {
        "id": "I2EL0OecwW63"
      },
      "execution_count": 32,
      "outputs": []
    },
    {
      "cell_type": "markdown",
      "source": [
        "# Import du modèle d'apprentissage"
      ],
      "metadata": {
        "id": "rOQ4vtBOf_C7"
      }
    },
    {
      "cell_type": "code",
      "source": [
        "import tensorflow as tf\n",
        "from tensorflow.keras import Sequential\n",
        "from tensorflow.keras.layers import Dense, Flatten, Dropout\n",
        "\n",
        "def import_model(conv_model_type, input_shape=(224, 224, 3), weights=None, train_state=True, custom_model=None, lr=1e-3):\n",
        "    if custom_model is not None:\n",
        "        include_top = False\n",
        "    else:\n",
        "        include_top = True\n",
        "    if conv_model_type == 'vgg':\n",
        "        conv_model = tf.keras.applications.VGG16(\n",
        "        include_top=include_top,\n",
        "        input_shape=input_shape,\n",
        "        weights=weights,\n",
        "        input_tensor=None,\n",
        "        pooling=None,\n",
        "        classes=5,\n",
        "        classifier_activation=\"softmax\",\n",
        "        )\n",
        "    else:\n",
        "        conv_model = tf.keras.applications.RestNet50(\n",
        "        include_top=include_top,\n",
        "        weights=weights,\n",
        "        input_shape=input_shape,\n",
        "        input_tensor=None,\n",
        "        pooling=None,\n",
        "        classes=5,\n",
        "        classifier_activation=\"softmax\",\n",
        "        )\n",
        "\n",
        "    # Freeze the pretrained weights\n",
        "    conv_model.trainable = train_state\n",
        "\n",
        "    # Construction du model\n",
        "    model = Sequential()\n",
        "    model.add(conv_model)\n",
        "    if custom_model is not None:\n",
        "        model.add(custom_model)\n",
        "\n",
        "    # Summary\n",
        "    model.summary()\n",
        "    conv_model.summary()\n",
        "    if custom_model is not None:\n",
        "        custom_model.summary()\n",
        "\n",
        "    # Compile\n",
        "    model.compile(\n",
        "    optimizer= tf.keras.optimizers.Adam(learning_rate=lr), \n",
        "    loss= 'categorical_crossentropy',\n",
        "    metrics= ['accuracy']\n",
        "    )\n",
        "\n",
        "    return model"
      ],
      "metadata": {
        "id": "NLQEQb4ZDmWy"
      },
      "execution_count": 33,
      "outputs": []
    },
    {
      "cell_type": "code",
      "source": [
        "## Custom model 1\n",
        "configuration_1 = Sequential(\n",
        "    layers=[\n",
        "            Flatten(),\n",
        "            Dense(4096, activation='relu'),\n",
        "            Dropout(0.2),\n",
        "            Dense(1024, activation='relu'),\n",
        "            Dropout(0.2),\n",
        "            Dense(5, activation='softmax')\n",
        "    ],\n",
        "    name = 'custom_config_1')\n",
        "\n",
        "## Custom model 2\n",
        "configuration_2 = Sequential(\n",
        "    layers=[\n",
        "            Flatten(),\n",
        "            Dense(4096, activation='relu'),\n",
        "            Dropout(0.2),\n",
        "            Dense(1024, activation='relu'),\n",
        "            Dropout(0.2),\n",
        "            Dense(128, activation='relu'),\n",
        "            Dropout(0.2),\n",
        "            Dense(5, activation='softmax')\n",
        "    ],\n",
        "    name = 'custom_config_2')\n",
        "\n",
        "## Custom model 3\n",
        "configuration_3 = Sequential(\n",
        "    layers=[\n",
        "            Flatten(),\n",
        "            Dense(4096, activation='selu'),\n",
        "            Dropout(0.2),\n",
        "            Dense(1024, activation='selu'),\n",
        "            Dropout(0.2),\n",
        "            Dense(5, activation='softmax')\n",
        "    ],\n",
        "    name = 'custom_config_3')\n",
        "\n",
        "## Custom model 4\n",
        "configuration_4 = Sequential(\n",
        "    layers=[\n",
        "            Flatten(),\n",
        "            Dense(4096, activation='selu'),\n",
        "            Dropout(0.2),\n",
        "            Dense(1024, activation='selu'),\n",
        "            Dropout(0.2),\n",
        "            Dense(128, activation='selu'),\n",
        "            Dropout(0.2),\n",
        "            Dense(5, activation='softmax')\n",
        "    ],\n",
        "    name = 'custom_config_4')"
      ],
      "metadata": {
        "id": "tLlIVdrdPVKN"
      },
      "execution_count": 34,
      "outputs": []
    },
    {
      "cell_type": "markdown",
      "source": [
        "# Amelioration"
      ],
      "metadata": {
        "id": "U0Lc2nID_CIn"
      }
    },
    {
      "cell_type": "markdown",
      "source": [
        "### Configuration 1\n"
      ],
      "metadata": {
        "id": "mB4c7w-I_Pxz"
      }
    },
    {
      "cell_type": "code",
      "source": [
        "epochs = 50\n",
        "batch_size = 32\n",
        "\n",
        "model = import_model(conv_model_type='vgg', input_shape=(224, 224, 3), weights='imagenet', train_state=False, custom_model=configuration_1, lr=1e-3)\n",
        "\n",
        "history = model.fit(\n",
        "    x=X_train, y=y_train,\n",
        "    validation_data=(X_val, y_val), \n",
        "    steps_per_epoch=X_train.shape[0]//batch_size, \n",
        "    epochs=epochs, \n",
        "    verbose=1\n",
        "    )\n",
        "\n",
        "plt.subplot()\n",
        "plt.title('Model Accuracy')\n",
        "plt.plot(history.history['accuracy'])\n",
        "plt.plot(history.history['val_accuracy'])\n",
        "plt.ylabel('Accuracy')\n",
        "plt.xlabel('Epochs')\n",
        "plt.legend(['Training Accuracy','Validation Accuracy'])\n",
        "plt.show()\n",
        "\n",
        "plt.title('Model Loss')\n",
        "plt.plot(history.history['loss'])\n",
        "plt.plot(history.history['val_loss'])\n",
        "plt.ylabel('Loss')\n",
        "plt.xlabel('Epochs')\n",
        "plt.legend(['Training Loss','Validation Loss'])\n",
        "plt.show()\n",
        "\n",
        "evaluate_model(model, X_test, y_test, convert_labels)"
      ],
      "metadata": {
        "id": "91XZf7OBq7Ae",
        "colab": {
          "base_uri": "https://localhost:8080/",
          "height": 1000
        },
        "outputId": "48024f85-971e-4364-f534-71a35899dd3e"
      },
      "execution_count": 35,
      "outputs": [
        {
          "output_type": "stream",
          "name": "stdout",
          "text": [
            "Model: \"sequential_2\"\n",
            "_________________________________________________________________\n",
            " Layer (type)                Output Shape              Param #   \n",
            "=================================================================\n",
            " vgg16 (Functional)          (None, 7, 7, 512)         14714688  \n",
            "                                                                 \n",
            " custom_config_1 (Sequential  (None, 5)                106964997 \n",
            " )                                                               \n",
            "                                                                 \n",
            "=================================================================\n",
            "Total params: 121,679,685\n",
            "Trainable params: 106,964,997\n",
            "Non-trainable params: 14,714,688\n",
            "_________________________________________________________________\n",
            "Model: \"vgg16\"\n",
            "_________________________________________________________________\n",
            " Layer (type)                Output Shape              Param #   \n",
            "=================================================================\n",
            " input_3 (InputLayer)        [(None, 224, 224, 3)]     0         \n",
            "                                                                 \n",
            " block1_conv1 (Conv2D)       (None, 224, 224, 64)      1792      \n",
            "                                                                 \n",
            " block1_conv2 (Conv2D)       (None, 224, 224, 64)      36928     \n",
            "                                                                 \n",
            " block1_pool (MaxPooling2D)  (None, 112, 112, 64)      0         \n",
            "                                                                 \n",
            " block2_conv1 (Conv2D)       (None, 112, 112, 128)     73856     \n",
            "                                                                 \n",
            " block2_conv2 (Conv2D)       (None, 112, 112, 128)     147584    \n",
            "                                                                 \n",
            " block2_pool (MaxPooling2D)  (None, 56, 56, 128)       0         \n",
            "                                                                 \n",
            " block3_conv1 (Conv2D)       (None, 56, 56, 256)       295168    \n",
            "                                                                 \n",
            " block3_conv2 (Conv2D)       (None, 56, 56, 256)       590080    \n",
            "                                                                 \n",
            " block3_conv3 (Conv2D)       (None, 56, 56, 256)       590080    \n",
            "                                                                 \n",
            " block3_pool (MaxPooling2D)  (None, 28, 28, 256)       0         \n",
            "                                                                 \n",
            " block4_conv1 (Conv2D)       (None, 28, 28, 512)       1180160   \n",
            "                                                                 \n",
            " block4_conv2 (Conv2D)       (None, 28, 28, 512)       2359808   \n",
            "                                                                 \n",
            " block4_conv3 (Conv2D)       (None, 28, 28, 512)       2359808   \n",
            "                                                                 \n",
            " block4_pool (MaxPooling2D)  (None, 14, 14, 512)       0         \n",
            "                                                                 \n",
            " block5_conv1 (Conv2D)       (None, 14, 14, 512)       2359808   \n",
            "                                                                 \n",
            " block5_conv2 (Conv2D)       (None, 14, 14, 512)       2359808   \n",
            "                                                                 \n",
            " block5_conv3 (Conv2D)       (None, 14, 14, 512)       2359808   \n",
            "                                                                 \n",
            " block5_pool (MaxPooling2D)  (None, 7, 7, 512)         0         \n",
            "                                                                 \n",
            "=================================================================\n",
            "Total params: 14,714,688\n",
            "Trainable params: 0\n",
            "Non-trainable params: 14,714,688\n",
            "_________________________________________________________________\n",
            "Model: \"custom_config_1\"\n",
            "_________________________________________________________________\n",
            " Layer (type)                Output Shape              Param #   \n",
            "=================================================================\n",
            " flatten_8 (Flatten)         (None, 25088)             0         \n",
            "                                                                 \n",
            " dense_28 (Dense)            (None, 4096)              102764544 \n",
            "                                                                 \n",
            " dropout_20 (Dropout)        (None, 4096)              0         \n",
            "                                                                 \n",
            " dense_29 (Dense)            (None, 1024)              4195328   \n",
            "                                                                 \n",
            " dropout_21 (Dropout)        (None, 1024)              0         \n",
            "                                                                 \n",
            " dense_30 (Dense)            (None, 5)                 5125      \n",
            "                                                                 \n",
            "=================================================================\n",
            "Total params: 106,964,997\n",
            "Trainable params: 106,964,997\n",
            "Non-trainable params: 0\n",
            "_________________________________________________________________\n",
            "Epoch 1/50\n",
            "54/54 [==============================] - 8s 136ms/step - loss: 2.5055 - accuracy: 0.6891 - val_loss: 0.4878 - val_accuracy: 0.8053\n",
            "Epoch 2/50\n",
            "54/54 [==============================] - 7s 127ms/step - loss: 0.3201 - accuracy: 0.8765 - val_loss: 0.4005 - val_accuracy: 0.8640\n",
            "Epoch 3/50\n",
            "54/54 [==============================] - 7s 127ms/step - loss: 0.1496 - accuracy: 0.9450 - val_loss: 0.4921 - val_accuracy: 0.8320\n",
            "Epoch 4/50\n",
            "54/54 [==============================] - 7s 127ms/step - loss: 0.0980 - accuracy: 0.9635 - val_loss: 0.4309 - val_accuracy: 0.8667\n",
            "Epoch 5/50\n",
            "54/54 [==============================] - 7s 126ms/step - loss: 0.0566 - accuracy: 0.9781 - val_loss: 0.4452 - val_accuracy: 0.8667\n",
            "Epoch 6/50\n",
            "54/54 [==============================] - 7s 126ms/step - loss: 0.0492 - accuracy: 0.9837 - val_loss: 0.5321 - val_accuracy: 0.8640\n",
            "Epoch 7/50\n",
            "54/54 [==============================] - 7s 126ms/step - loss: 0.0384 - accuracy: 0.9843 - val_loss: 0.8526 - val_accuracy: 0.8320\n",
            "Epoch 8/50\n",
            "54/54 [==============================] - 7s 126ms/step - loss: 0.0378 - accuracy: 0.9854 - val_loss: 0.8534 - val_accuracy: 0.8400\n",
            "Epoch 9/50\n",
            "54/54 [==============================] - 7s 126ms/step - loss: 0.0272 - accuracy: 0.9921 - val_loss: 0.6907 - val_accuracy: 0.8560\n",
            "Epoch 10/50\n",
            "54/54 [==============================] - 7s 125ms/step - loss: 0.0148 - accuracy: 0.9955 - val_loss: 0.6232 - val_accuracy: 0.8720\n",
            "Epoch 11/50\n",
            "54/54 [==============================] - 7s 126ms/step - loss: 0.0050 - accuracy: 0.9983 - val_loss: 0.6006 - val_accuracy: 0.8773\n",
            "Epoch 12/50\n",
            "54/54 [==============================] - 7s 129ms/step - loss: 0.0440 - accuracy: 0.9832 - val_loss: 0.5618 - val_accuracy: 0.8720\n",
            "Epoch 13/50\n",
            "54/54 [==============================] - 7s 126ms/step - loss: 0.0186 - accuracy: 0.9949 - val_loss: 0.7160 - val_accuracy: 0.8613\n",
            "Epoch 14/50\n",
            "54/54 [==============================] - 7s 126ms/step - loss: 0.0175 - accuracy: 0.9938 - val_loss: 1.1486 - val_accuracy: 0.8453\n",
            "Epoch 15/50\n",
            "54/54 [==============================] - 7s 126ms/step - loss: 0.1341 - accuracy: 0.9607 - val_loss: 0.9874 - val_accuracy: 0.8587\n",
            "Epoch 16/50\n",
            "54/54 [==============================] - 7s 126ms/step - loss: 0.1012 - accuracy: 0.9703 - val_loss: 0.6869 - val_accuracy: 0.8720\n",
            "Epoch 17/50\n",
            "54/54 [==============================] - 7s 126ms/step - loss: 0.0788 - accuracy: 0.9759 - val_loss: 0.6906 - val_accuracy: 0.8640\n",
            "Epoch 18/50\n",
            "54/54 [==============================] - 7s 126ms/step - loss: 0.0300 - accuracy: 0.9916 - val_loss: 0.8900 - val_accuracy: 0.8400\n",
            "Epoch 19/50\n",
            "54/54 [==============================] - 7s 127ms/step - loss: 0.0202 - accuracy: 0.9949 - val_loss: 0.6885 - val_accuracy: 0.8747\n",
            "Epoch 20/50\n",
            "54/54 [==============================] - 7s 127ms/step - loss: 0.0486 - accuracy: 0.9832 - val_loss: 1.2089 - val_accuracy: 0.8373\n",
            "Epoch 21/50\n",
            "54/54 [==============================] - 7s 126ms/step - loss: 0.0396 - accuracy: 0.9871 - val_loss: 0.7559 - val_accuracy: 0.8773\n",
            "Epoch 22/50\n",
            "54/54 [==============================] - 7s 126ms/step - loss: 0.0536 - accuracy: 0.9882 - val_loss: 1.0241 - val_accuracy: 0.8560\n",
            "Epoch 23/50\n",
            "54/54 [==============================] - 7s 126ms/step - loss: 0.0369 - accuracy: 0.9882 - val_loss: 1.0395 - val_accuracy: 0.8507\n",
            "Epoch 24/50\n",
            "54/54 [==============================] - 7s 126ms/step - loss: 0.0260 - accuracy: 0.9927 - val_loss: 1.0156 - val_accuracy: 0.8720\n",
            "Epoch 25/50\n",
            "54/54 [==============================] - 7s 126ms/step - loss: 0.0124 - accuracy: 0.9955 - val_loss: 0.9547 - val_accuracy: 0.8693\n",
            "Epoch 26/50\n",
            "54/54 [==============================] - 7s 126ms/step - loss: 0.0316 - accuracy: 0.9938 - val_loss: 0.7264 - val_accuracy: 0.8693\n",
            "Epoch 27/50\n",
            "54/54 [==============================] - 7s 126ms/step - loss: 0.0161 - accuracy: 0.9933 - val_loss: 0.7643 - val_accuracy: 0.8720\n",
            "Epoch 28/50\n",
            "54/54 [==============================] - 7s 126ms/step - loss: 0.0283 - accuracy: 0.9927 - val_loss: 0.8664 - val_accuracy: 0.8800\n",
            "Epoch 29/50\n",
            "54/54 [==============================] - 7s 126ms/step - loss: 0.0043 - accuracy: 0.9983 - val_loss: 0.9930 - val_accuracy: 0.8587\n",
            "Epoch 30/50\n",
            "54/54 [==============================] - 7s 126ms/step - loss: 0.0085 - accuracy: 0.9978 - val_loss: 1.0357 - val_accuracy: 0.8693\n",
            "Epoch 31/50\n",
            "54/54 [==============================] - 7s 126ms/step - loss: 0.1060 - accuracy: 0.9759 - val_loss: 1.6153 - val_accuracy: 0.8267\n",
            "Epoch 32/50\n",
            "54/54 [==============================] - 7s 126ms/step - loss: 0.1470 - accuracy: 0.9731 - val_loss: 1.4432 - val_accuracy: 0.8160\n",
            "Epoch 33/50\n",
            "54/54 [==============================] - 7s 126ms/step - loss: 0.0312 - accuracy: 0.9921 - val_loss: 0.9214 - val_accuracy: 0.8747\n",
            "Epoch 34/50\n",
            "54/54 [==============================] - 7s 126ms/step - loss: 0.0311 - accuracy: 0.9933 - val_loss: 1.1053 - val_accuracy: 0.8427\n",
            "Epoch 35/50\n",
            "54/54 [==============================] - 7s 126ms/step - loss: 0.0243 - accuracy: 0.9927 - val_loss: 0.8093 - val_accuracy: 0.8800\n",
            "Epoch 36/50\n",
            "54/54 [==============================] - 7s 126ms/step - loss: 0.0189 - accuracy: 0.9961 - val_loss: 1.0334 - val_accuracy: 0.8693\n",
            "Epoch 37/50\n",
            "54/54 [==============================] - 7s 126ms/step - loss: 0.0082 - accuracy: 0.9978 - val_loss: 0.8165 - val_accuracy: 0.8613\n",
            "Epoch 38/50\n",
            "54/54 [==============================] - 7s 126ms/step - loss: 1.2346e-04 - accuracy: 1.0000 - val_loss: 0.8810 - val_accuracy: 0.8587\n",
            "Epoch 39/50\n",
            "54/54 [==============================] - 7s 127ms/step - loss: 0.0023 - accuracy: 0.9989 - val_loss: 1.0044 - val_accuracy: 0.8693\n",
            "Epoch 40/50\n",
            "54/54 [==============================] - 7s 127ms/step - loss: 0.0079 - accuracy: 0.9972 - val_loss: 0.9211 - val_accuracy: 0.8693\n",
            "Epoch 41/50\n",
            "54/54 [==============================] - 7s 126ms/step - loss: 1.4659e-04 - accuracy: 1.0000 - val_loss: 0.8460 - val_accuracy: 0.8827\n",
            "Epoch 42/50\n",
            "54/54 [==============================] - 7s 126ms/step - loss: 7.6746e-04 - accuracy: 0.9994 - val_loss: 0.8614 - val_accuracy: 0.8693\n",
            "Epoch 43/50\n",
            "54/54 [==============================] - 7s 126ms/step - loss: 8.2350e-04 - accuracy: 1.0000 - val_loss: 0.9359 - val_accuracy: 0.8693\n",
            "Epoch 44/50\n",
            "54/54 [==============================] - 7s 125ms/step - loss: 8.1522e-04 - accuracy: 0.9994 - val_loss: 0.9409 - val_accuracy: 0.8773\n",
            "Epoch 45/50\n",
            "54/54 [==============================] - 7s 126ms/step - loss: 2.4533e-04 - accuracy: 1.0000 - val_loss: 1.0027 - val_accuracy: 0.8720\n",
            "Epoch 46/50\n",
            "54/54 [==============================] - 7s 126ms/step - loss: 1.6187e-04 - accuracy: 1.0000 - val_loss: 0.9507 - val_accuracy: 0.8800\n",
            "Epoch 47/50\n",
            "54/54 [==============================] - 7s 126ms/step - loss: 3.4171e-05 - accuracy: 1.0000 - val_loss: 0.9412 - val_accuracy: 0.8747\n",
            "Epoch 48/50\n",
            "54/54 [==============================] - 7s 126ms/step - loss: 3.5638e-06 - accuracy: 1.0000 - val_loss: 0.9418 - val_accuracy: 0.8747\n",
            "Epoch 49/50\n",
            "54/54 [==============================] - 7s 125ms/step - loss: 6.9266e-06 - accuracy: 1.0000 - val_loss: 0.9422 - val_accuracy: 0.8720\n",
            "Epoch 50/50\n",
            " 4/54 [=>............................] - ETA: 5s - loss: 2.7183e-07 - accuracy: 1.0000WARNING:tensorflow:Your input ran out of data; interrupting training. Make sure that your dataset or generator can generate at least `steps_per_epoch * epochs` batches (in this case, 2700 batches). You may need to use the repeat() function when building your dataset.\n",
            "54/54 [==============================] - 1s 25ms/step - loss: 2.7183e-07 - accuracy: 1.0000 - val_loss: 0.9422 - val_accuracy: 0.8720\n"
          ]
        },
        {
          "output_type": "display_data",
          "data": {
            "text/plain": [
              "<Figure size 432x288 with 1 Axes>"
            ],
            "image/png": "[encoded data removed]"
          },
          "metadata": {
            "needs_background": "light"
          }
        },
        {
          "output_type": "display_data",
          "data": {
            "text/plain": [
              "<Figure size 432x288 with 1 Axes>"
            ],
            "image/png": "[encoded data removed]"
          },
          "metadata": {
            "needs_background": "light"
          }
        },
        {
          "output_type": "stream",
          "name": "stdout",
          "text": [
            "\n",
            "\n",
            "\n",
            "              precision    recall  f1-score   support\n",
            "\n",
            "           0       0.86      0.97      0.91        66\n",
            "           1       0.93      0.86      0.90        81\n",
            "           2       0.90      0.85      0.87        71\n",
            "           3       0.86      0.89      0.88        75\n",
            "           4       0.93      0.92      0.92        83\n",
            "\n",
            "   micro avg       0.90      0.90      0.90       376\n",
            "   macro avg       0.90      0.90      0.90       376\n",
            "weighted avg       0.90      0.90      0.90       376\n",
            " samples avg       0.90      0.90      0.90       376\n",
            "\n"
          ]
        },
        {
          "output_type": "display_data",
          "data": {
            "text/plain": [
              "<Figure size 576x864 with 0 Axes>"
            ]
          },
          "metadata": {}
        },
        {
          "output_type": "display_data",
          "data": {
            "text/plain": [
              "<Figure size 864x288 with 5 Axes>"
            ],
            "image/png": "[encoded data removed]"
          },
          "metadata": {
            "needs_background": "light"
          }
        }
      ]
    },
    {
      "cell_type": "markdown",
      "source": [
        "### Configuration 2"
      ],
      "metadata": {
        "id": "kBXedm4K_VhN"
      }
    },
    {
      "cell_type": "code",
      "source": [
        "model = import_model(conv_model_type='vgg', input_shape=(224, 224, 3), weights='imagenet', train_state=False, custom_model=configuration_2, lr=1e-3)\n",
        "\n",
        "history = model.fit(\n",
        "    x=X_train, y=y_train,\n",
        "    validation_data=(X_val, y_val), \n",
        "    steps_per_epoch=X_train.shape[0]//batch_size, \n",
        "    epochs=epochs, \n",
        "    verbose=1\n",
        "    )\n",
        "\n",
        "plt.subplot()\n",
        "plt.title('Model Accuracy')\n",
        "plt.plot(history.history['accuracy'])\n",
        "plt.plot(history.history['val_accuracy'])\n",
        "plt.ylabel('Accuracy')\n",
        "plt.xlabel('Epochs')\n",
        "plt.legend(['Training Accuracy','Validation Accuracy'])\n",
        "plt.show()\n",
        "\n",
        "plt.title('Model Loss')\n",
        "plt.plot(history.history['loss'])\n",
        "plt.plot(history.history['val_loss'])\n",
        "plt.ylabel('Loss')\n",
        "plt.xlabel('Epochs')\n",
        "plt.legend(['Training Loss','Validation Loss'])\n",
        "plt.show()\n",
        "\n",
        "evaluate_model(model, X_test, y_test, convert_labels)"
      ],
      "metadata": {
        "id": "caJmCJo3_FeN",
        "colab": {
          "base_uri": "https://localhost:8080/",
          "height": 1000
        },
        "outputId": "bd5c52a6-e643-41a7-c2d5-d7ffbbf141dc"
      },
      "execution_count": 36,
      "outputs": [
        {
          "output_type": "stream",
          "name": "stdout",
          "text": [
            "Model: \"sequential_3\"\n",
            "_________________________________________________________________\n",
            " Layer (type)                Output Shape              Param #   \n",
            "=================================================================\n",
            " vgg16 (Functional)          (None, 7, 7, 512)         14714688  \n",
            "                                                                 \n",
            " custom_config_2 (Sequential  (None, 5)                107091717 \n",
            " )                                                               \n",
            "                                                                 \n",
            "=================================================================\n",
            "Total params: 121,806,405\n",
            "Trainable params: 107,091,717\n",
            "Non-trainable params: 14,714,688\n",
            "_________________________________________________________________\n",
            "Model: \"vgg16\"\n",
            "_________________________________________________________________\n",
            " Layer (type)                Output Shape              Param #   \n",
            "=================================================================\n",
            " input_4 (InputLayer)        [(None, 224, 224, 3)]     0         \n",
            "                                                                 \n",
            " block1_conv1 (Conv2D)       (None, 224, 224, 64)      1792      \n",
            "                                                                 \n",
            " block1_conv2 (Conv2D)       (None, 224, 224, 64)      36928     \n",
            "                                                                 \n",
            " block1_pool (MaxPooling2D)  (None, 112, 112, 64)      0         \n",
            "                                                                 \n",
            " block2_conv1 (Conv2D)       (None, 112, 112, 128)     73856     \n",
            "                                                                 \n",
            " block2_conv2 (Conv2D)       (None, 112, 112, 128)     147584    \n",
            "                                                                 \n",
            " block2_pool (MaxPooling2D)  (None, 56, 56, 128)       0         \n",
            "                                                                 \n",
            " block3_conv1 (Conv2D)       (None, 56, 56, 256)       295168    \n",
            "                                                                 \n",
            " block3_conv2 (Conv2D)       (None, 56, 56, 256)       590080    \n",
            "                                                                 \n",
            " block3_conv3 (Conv2D)       (None, 56, 56, 256)       590080    \n",
            "                                                                 \n",
            " block3_pool (MaxPooling2D)  (None, 28, 28, 256)       0         \n",
            "                                                                 \n",
            " block4_conv1 (Conv2D)       (None, 28, 28, 512)       1180160   \n",
            "                                                                 \n",
            " block4_conv2 (Conv2D)       (None, 28, 28, 512)       2359808   \n",
            "                                                                 \n",
            " block4_conv3 (Conv2D)       (None, 28, 28, 512)       2359808   \n",
            "                                                                 \n",
            " block4_pool (MaxPooling2D)  (None, 14, 14, 512)       0         \n",
            "                                                                 \n",
            " block5_conv1 (Conv2D)       (None, 14, 14, 512)       2359808   \n",
            "                                                                 \n",
            " block5_conv2 (Conv2D)       (None, 14, 14, 512)       2359808   \n",
            "                                                                 \n",
            " block5_conv3 (Conv2D)       (None, 14, 14, 512)       2359808   \n",
            "                                                                 \n",
            " block5_pool (MaxPooling2D)  (None, 7, 7, 512)         0         \n",
            "                                                                 \n",
            "=================================================================\n",
            "Total params: 14,714,688\n",
            "Trainable params: 0\n",
            "Non-trainable params: 14,714,688\n",
            "_________________________________________________________________\n",
            "Model: \"custom_config_2\"\n",
            "_________________________________________________________________\n",
            " Layer (type)                Output Shape              Param #   \n",
            "=================================================================\n",
            " flatten_9 (Flatten)         (None, 25088)             0         \n",
            "                                                                 \n",
            " dense_31 (Dense)            (None, 4096)              102764544 \n",
            "                                                                 \n",
            " dropout_22 (Dropout)        (None, 4096)              0         \n",
            "                                                                 \n",
            " dense_32 (Dense)            (None, 1024)              4195328   \n",
            "                                                                 \n",
            " dropout_23 (Dropout)        (None, 1024)              0         \n",
            "                                                                 \n",
            " dense_33 (Dense)            (None, 128)               131200    \n",
            "                                                                 \n",
            " dropout_24 (Dropout)        (None, 128)               0         \n",
            "                                                                 \n",
            " dense_34 (Dense)            (None, 5)                 645       \n",
            "                                                                 \n",
            "=================================================================\n",
            "Total params: 107,091,717\n",
            "Trainable params: 107,091,717\n",
            "Non-trainable params: 0\n",
            "_________________________________________________________________\n",
            "Epoch 1/50\n",
            "54/54 [==============================] - 8s 137ms/step - loss: 2.6347 - accuracy: 0.5870 - val_loss: 0.7031 - val_accuracy: 0.6533\n",
            "Epoch 2/50\n",
            "54/54 [==============================] - 7s 126ms/step - loss: 0.6236 - accuracy: 0.7503 - val_loss: 0.4500 - val_accuracy: 0.8320\n",
            "Epoch 3/50\n",
            "54/54 [==============================] - 7s 125ms/step - loss: 0.4399 - accuracy: 0.8300 - val_loss: 0.4422 - val_accuracy: 0.8160\n",
            "Epoch 4/50\n",
            "54/54 [==============================] - 7s 126ms/step - loss: 0.2514 - accuracy: 0.9091 - val_loss: 0.3538 - val_accuracy: 0.8480\n",
            "Epoch 5/50\n",
            "54/54 [==============================] - 7s 126ms/step - loss: 0.1513 - accuracy: 0.9461 - val_loss: 0.4494 - val_accuracy: 0.8560\n",
            "Epoch 6/50\n",
            "54/54 [==============================] - 7s 126ms/step - loss: 0.1005 - accuracy: 0.9652 - val_loss: 0.4039 - val_accuracy: 0.8640\n",
            "Epoch 7/50\n",
            "54/54 [==============================] - 7s 126ms/step - loss: 0.0845 - accuracy: 0.9714 - val_loss: 0.5248 - val_accuracy: 0.8693\n",
            "Epoch 8/50\n",
            "54/54 [==============================] - 7s 126ms/step - loss: 0.0499 - accuracy: 0.9809 - val_loss: 0.4142 - val_accuracy: 0.8720\n",
            "Epoch 9/50\n",
            "54/54 [==============================] - 7s 126ms/step - loss: 0.0641 - accuracy: 0.9809 - val_loss: 0.7746 - val_accuracy: 0.8320\n",
            "Epoch 10/50\n",
            "54/54 [==============================] - 7s 126ms/step - loss: 0.0478 - accuracy: 0.9832 - val_loss: 0.6357 - val_accuracy: 0.8480\n",
            "Epoch 11/50\n",
            "54/54 [==============================] - 7s 126ms/step - loss: 0.0449 - accuracy: 0.9865 - val_loss: 0.5449 - val_accuracy: 0.8533\n",
            "Epoch 12/50\n",
            "54/54 [==============================] - 7s 126ms/step - loss: 0.0289 - accuracy: 0.9905 - val_loss: 0.7821 - val_accuracy: 0.8640\n",
            "Epoch 13/50\n",
            "54/54 [==============================] - 7s 127ms/step - loss: 0.0227 - accuracy: 0.9916 - val_loss: 0.8236 - val_accuracy: 0.8800\n",
            "Epoch 14/50\n",
            "54/54 [==============================] - 7s 127ms/step - loss: 0.0441 - accuracy: 0.9848 - val_loss: 0.7538 - val_accuracy: 0.8400\n",
            "Epoch 15/50\n",
            "54/54 [==============================] - 7s 127ms/step - loss: 0.0365 - accuracy: 0.9888 - val_loss: 0.8758 - val_accuracy: 0.8480\n",
            "Epoch 16/50\n",
            "54/54 [==============================] - 7s 126ms/step - loss: 0.0520 - accuracy: 0.9843 - val_loss: 0.6984 - val_accuracy: 0.8693\n",
            "Epoch 17/50\n",
            "54/54 [==============================] - 7s 126ms/step - loss: 0.0286 - accuracy: 0.9882 - val_loss: 0.7208 - val_accuracy: 0.8693\n",
            "Epoch 18/50\n",
            "54/54 [==============================] - 7s 126ms/step - loss: 0.0334 - accuracy: 0.9905 - val_loss: 0.6552 - val_accuracy: 0.8613\n",
            "Epoch 19/50\n",
            "54/54 [==============================] - 7s 126ms/step - loss: 0.0468 - accuracy: 0.9854 - val_loss: 0.7083 - val_accuracy: 0.8720\n",
            "Epoch 20/50\n",
            "54/54 [==============================] - 7s 125ms/step - loss: 0.0525 - accuracy: 0.9843 - val_loss: 0.7694 - val_accuracy: 0.8507\n",
            "Epoch 21/50\n",
            "54/54 [==============================] - 7s 126ms/step - loss: 0.0792 - accuracy: 0.9792 - val_loss: 0.7052 - val_accuracy: 0.8747\n",
            "Epoch 22/50\n",
            "54/54 [==============================] - 7s 127ms/step - loss: 0.0468 - accuracy: 0.9893 - val_loss: 0.6362 - val_accuracy: 0.8560\n",
            "Epoch 23/50\n",
            "54/54 [==============================] - 7s 126ms/step - loss: 0.0080 - accuracy: 0.9972 - val_loss: 0.8821 - val_accuracy: 0.8747\n",
            "Epoch 24/50\n",
            "54/54 [==============================] - 7s 127ms/step - loss: 0.0141 - accuracy: 0.9972 - val_loss: 0.8266 - val_accuracy: 0.8667\n",
            "Epoch 25/50\n",
            "54/54 [==============================] - 7s 126ms/step - loss: 0.0016 - accuracy: 1.0000 - val_loss: 0.8627 - val_accuracy: 0.8907\n",
            "Epoch 26/50\n",
            "54/54 [==============================] - 7s 126ms/step - loss: 7.4683e-04 - accuracy: 0.9994 - val_loss: 0.8500 - val_accuracy: 0.8880\n",
            "Epoch 27/50\n",
            "54/54 [==============================] - 7s 126ms/step - loss: 0.0311 - accuracy: 0.9944 - val_loss: 1.2939 - val_accuracy: 0.8240\n",
            "Epoch 28/50\n",
            "54/54 [==============================] - 7s 127ms/step - loss: 0.0330 - accuracy: 0.9916 - val_loss: 1.1286 - val_accuracy: 0.8640\n",
            "Epoch 29/50\n",
            "54/54 [==============================] - 7s 126ms/step - loss: 0.0289 - accuracy: 0.9905 - val_loss: 0.8169 - val_accuracy: 0.8667\n",
            "Epoch 30/50\n",
            "54/54 [==============================] - 7s 126ms/step - loss: 0.0516 - accuracy: 0.9860 - val_loss: 0.8708 - val_accuracy: 0.8507\n",
            "Epoch 31/50\n",
            "54/54 [==============================] - 7s 127ms/step - loss: 0.0435 - accuracy: 0.9905 - val_loss: 0.7947 - val_accuracy: 0.8560\n",
            "Epoch 32/50\n",
            "54/54 [==============================] - 7s 132ms/step - loss: 0.0125 - accuracy: 0.9955 - val_loss: 0.8214 - val_accuracy: 0.8960\n",
            "Epoch 33/50\n",
            "54/54 [==============================] - 7s 127ms/step - loss: 0.0118 - accuracy: 0.9961 - val_loss: 0.7848 - val_accuracy: 0.8720\n",
            "Epoch 34/50\n",
            "54/54 [==============================] - 7s 126ms/step - loss: 0.0114 - accuracy: 0.9966 - val_loss: 0.9062 - val_accuracy: 0.8853\n",
            "Epoch 35/50\n",
            "54/54 [==============================] - 7s 125ms/step - loss: 0.0112 - accuracy: 0.9972 - val_loss: 0.9385 - val_accuracy: 0.8533\n",
            "Epoch 36/50\n",
            "54/54 [==============================] - 7s 126ms/step - loss: 0.0057 - accuracy: 0.9972 - val_loss: 0.9455 - val_accuracy: 0.8827\n",
            "Epoch 37/50\n",
            "54/54 [==============================] - 7s 126ms/step - loss: 0.0458 - accuracy: 0.9877 - val_loss: 0.9495 - val_accuracy: 0.8773\n",
            "Epoch 38/50\n",
            "54/54 [==============================] - 7s 126ms/step - loss: 0.0041 - accuracy: 0.9983 - val_loss: 0.8273 - val_accuracy: 0.8933\n",
            "Epoch 39/50\n",
            "54/54 [==============================] - 7s 126ms/step - loss: 5.4574e-04 - accuracy: 1.0000 - val_loss: 0.8847 - val_accuracy: 0.8827\n",
            "Epoch 40/50\n",
            "54/54 [==============================] - 7s 126ms/step - loss: 0.0119 - accuracy: 0.9972 - val_loss: 0.6552 - val_accuracy: 0.8853\n",
            "Epoch 41/50\n",
            "54/54 [==============================] - 7s 126ms/step - loss: 0.0110 - accuracy: 0.9978 - val_loss: 0.7093 - val_accuracy: 0.8907\n",
            "Epoch 42/50\n",
            "54/54 [==============================] - 7s 126ms/step - loss: 0.0324 - accuracy: 0.9921 - val_loss: 0.6366 - val_accuracy: 0.8800\n",
            "Epoch 43/50\n",
            "54/54 [==============================] - 7s 126ms/step - loss: 0.0193 - accuracy: 0.9955 - val_loss: 0.6660 - val_accuracy: 0.8720\n",
            "Epoch 44/50\n",
            "54/54 [==============================] - 7s 126ms/step - loss: 0.0014 - accuracy: 1.0000 - val_loss: 0.8354 - val_accuracy: 0.8827\n",
            "Epoch 45/50\n",
            "54/54 [==============================] - 7s 126ms/step - loss: 1.7162e-04 - accuracy: 1.0000 - val_loss: 0.8873 - val_accuracy: 0.8827\n",
            "Epoch 46/50\n",
            "54/54 [==============================] - 7s 126ms/step - loss: 5.8538e-05 - accuracy: 1.0000 - val_loss: 0.9454 - val_accuracy: 0.8853\n",
            "Epoch 47/50\n",
            "54/54 [==============================] - 7s 126ms/step - loss: 3.7816e-05 - accuracy: 1.0000 - val_loss: 0.9931 - val_accuracy: 0.8827\n",
            "Epoch 48/50\n",
            "54/54 [==============================] - 7s 126ms/step - loss: 1.5738e-04 - accuracy: 1.0000 - val_loss: 1.2200 - val_accuracy: 0.8667\n",
            "Epoch 49/50\n",
            "54/54 [==============================] - 7s 127ms/step - loss: 0.0063 - accuracy: 0.9994 - val_loss: 1.0797 - val_accuracy: 0.8827\n",
            "Epoch 50/50\n",
            " 4/54 [=>............................] - ETA: 5s - loss: 3.4272e-04 - accuracy: 1.0000WARNING:tensorflow:Your input ran out of data; interrupting training. Make sure that your dataset or generator can generate at least `steps_per_epoch * epochs` batches (in this case, 2700 batches). You may need to use the repeat() function when building your dataset.\n",
            "54/54 [==============================] - 1s 25ms/step - loss: 3.4272e-04 - accuracy: 1.0000 - val_loss: 1.7695 - val_accuracy: 0.8427\n"
          ]
        },
        {
          "output_type": "display_data",
          "data": {
            "text/plain": [
              "<Figure size 432x288 with 1 Axes>"
            ],
            "image/png": "[encoded data removed]"
          },
          "metadata": {
            "needs_background": "light"
          }
        },
        {
          "output_type": "display_data",
          "data": {
            "text/plain": [
              "<Figure size 432x288 with 1 Axes>"
            ],
            "image/png": "[encoded data removed]"
          },
          "metadata": {
            "needs_background": "light"
          }
        },
        {
          "output_type": "stream",
          "name": "stdout",
          "text": [
            "\n",
            "\n",
            "\n",
            "              precision    recall  f1-score   support\n",
            "\n",
            "           0       0.98      0.80      0.88        66\n",
            "           1       0.88      0.89      0.88        81\n",
            "           2       0.96      0.77      0.86        71\n",
            "           3       0.73      1.00      0.84        75\n",
            "           4       0.94      0.90      0.92        83\n",
            "\n",
            "   micro avg       0.88      0.88      0.88       376\n",
            "   macro avg       0.90      0.87      0.88       376\n",
            "weighted avg       0.90      0.88      0.88       376\n",
            " samples avg       0.88      0.88      0.88       376\n",
            "\n"
          ]
        },
        {
          "output_type": "display_data",
          "data": {
            "text/plain": [
              "<Figure size 576x864 with 0 Axes>"
            ]
          },
          "metadata": {}
        },
        {
          "output_type": "display_data",
          "data": {
            "text/plain": [
              "<Figure size 864x288 with 5 Axes>"
            ],
            "image/png": "[encoded data removed]"
          },
          "metadata": {
            "needs_background": "light"
          }
        }
      ]
    }
  ]
}